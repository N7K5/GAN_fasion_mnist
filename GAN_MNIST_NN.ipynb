{
  "nbformat": 4,
  "nbformat_minor": 0,
  "metadata": {
    "colab": {
      "name": "GAN_MNIST_NN.ipynb",
      "provenance": [],
      "collapsed_sections": []
    },
    "kernelspec": {
      "display_name": "Python 3",
      "name": "python3"
    },
    "language_info": {
      "name": "python"
    }
  },
  "cells": [
    {
      "cell_type": "code",
      "metadata": {
        "id": "Q1BJSINg7UdW"
      },
      "source": [
        "import tensorflow as tf\n",
        "\n",
        "import random\n",
        "\n",
        "import numpy as np\n",
        "import pandas as pd\n",
        "import matplotlib.pyplot as plt\n",
        "\n",
        "from tensorflow.keras.datasets import fashion_mnist\n",
        "\n",
        "import keras"
      ],
      "execution_count": 3,
      "outputs": []
    },
    {
      "cell_type": "code",
      "metadata": {
        "id": "_9_OQuIfgOfg"
      },
      "source": [
        "image_dim= 28*28\n",
        "noise_dim= 100"
      ],
      "execution_count": 8,
      "outputs": []
    },
    {
      "cell_type": "code",
      "metadata": {
        "id": "TJO0y5RXdQwf"
      },
      "source": [
        "(x_train, y_train), (x_test, y_test)= fashion_mnist.load_data()\n",
        "\n",
        "x_train= x_train/255\n",
        "x_test= x_test/255\n",
        "\n",
        "x_train= x_train.reshape(-1, image_dim)\n",
        "\n"
      ],
      "execution_count": 9,
      "outputs": []
    },
    {
      "cell_type": "code",
      "metadata": {
        "id": "oM1nplK4fyZf"
      },
      "source": [
        "def draw_image(image):\n",
        "  i= image.reshape(28,28)\n",
        "  plt.figure()\n",
        "  plt.imshow(i)\n",
        "  plt.colorbar()\n"
      ],
      "execution_count": 10,
      "outputs": []
    },
    {
      "cell_type": "code",
      "metadata": {
        "colab": {
          "base_uri": "https://localhost:8080/",
          "height": 269
        },
        "id": "J0eQBy_PgOCt",
        "outputId": "366d5a0d-b669-494d-efd5-f2b734e7fd48"
      },
      "source": [
        "draw_image(x_train[4])"
      ],
      "execution_count": 14,
      "outputs": [
        {
          "output_type": "display_data",
          "data": {
            "image/png": "[encoded data removed]",
            "text/plain": [
              "<Figure size 432x288 with 2 Axes>"
            ]
          },
          "metadata": {
            "tags": [],
            "needs_background": "light"
          }
        }
      ]
    },
    {
      "cell_type": "markdown",
      "metadata": {
        "id": "etEWbHsDAFbY"
      },
      "source": [
        "\n",
        "\n",
        "---\n",
        "\n",
        "\n",
        "# **Lets make the models**\n",
        "\n",
        "\n",
        "---\n",
        "\n"
      ]
    },
    {
      "cell_type": "code",
      "metadata": {
        "id": "JfNrnUlpho2-"
      },
      "source": [
        "def generator(ip_size, op_size):\n",
        "  model= keras.models.Sequential()\n",
        "  model.add(keras.layers.Dense(units=256, activation='tanh', input_shape=(ip_size,)))\n",
        "  model.add(keras.layers.Dense(units=512, activation='tanh'))\n",
        "  model.add(keras.layers.Dense(units=1024, activation='tanh'))\n",
        "  model.add(keras.layers.Dense(units=op_size, activation='sigmoid'))\n",
        "  return model"
      ],
      "execution_count": 15,
      "outputs": []
    },
    {
      "cell_type": "code",
      "metadata": {
        "id": "yiWAT8yRly2W"
      },
      "source": [
        "def discremenetor(ip_size):\n",
        "  model= keras.models.Sequential()\n",
        "  model.add(keras.layers.Dense(units=1024, activation='relu', input_shape=(ip_size,)))\n",
        "  model.add(keras.layers.Dense(units=512, activation='relu'))\n",
        "  model.add(keras.layers.Dense(units=256, activation='relu'))\n",
        "  model.add(keras.layers.Dense(units=1, activation='sigmoid'))\n",
        "  opt= keras.optimizers.SGD(learning_rate=0.005)\n",
        "  model.compile(optimizer=opt, loss='mse')\n",
        "  return model\n"
      ],
      "execution_count": 16,
      "outputs": []
    },
    {
      "cell_type": "code",
      "metadata": {
        "id": "oEm7phOOt5jy"
      },
      "source": [
        "def generate_noise(size, count=1):\n",
        "  res= list()\n",
        "  for _ in range(count):\n",
        "    sampl = np.random.uniform(low=0.0, high=1, size=(size,))\n",
        "    res.append(sampl)\n",
        "  return np.array(res)\n",
        "\n",
        "\n",
        "def get_n_images(n):\n",
        "  res= list()\n",
        "  for _ in range(n):\n",
        "    index= random.randint(0, len(x_train)-1)\n",
        "    res.append(x_train[index])\n",
        "  return res\n",
        "\n",
        "\n",
        "def unison_shuffled_copies(a, b):\n",
        "  assert len(a) == len(b)\n",
        "  p = np.random.permutation(len(a))\n",
        "  return a[p], b[p]\n"
      ],
      "execution_count": 34,
      "outputs": []
    },
    {
      "cell_type": "code",
      "metadata": {
        "id": "BtLCL-VSjCyv"
      },
      "source": [
        "def train_discriminator(g_model, d_model, size= 4096*16, epochs=1, batch_size= 512):\n",
        "\n",
        "  d_model.trainable= True\n",
        "\n",
        "  half_size= int(size/2)\n",
        "\n",
        "  real_image= get_n_images(half_size)\n",
        "  real_image= np.array(real_image)\n",
        "\n",
        "  noise= generate_noise(noise_dim, count=half_size)\n",
        "  fake_image= g_model.predict(noise)\n",
        "\n",
        "  xs= np.concatenate([real_image,fake_image])\n",
        "  ys= np.concatenate([ np.ones(half_size), np.zeros(half_size) ])\n",
        "\n",
        "  xs, ys= unison_shuffled_copies(xs, ys)\n",
        "\n",
        "  d_model.fit(xs, ys, epochs=epochs , batch_size=batch_size )\n",
        "\n"
      ],
      "execution_count": 54,
      "outputs": []
    },
    {
      "cell_type": "code",
      "metadata": {
        "id": "a-LjNGbylunv"
      },
      "source": [
        "def train_generator(g_model, d_model, size= 4096*16, epochs=1,  batch_size= 512):\n",
        "\n",
        "  model= keras.models.Sequential()\n",
        "  d_model.trainable= False\n",
        "  model.add(g_model)\n",
        "  model.add(d_model)\n",
        "  opt= keras.optimizers.SGD(learning_rate=0.005)\n",
        "  model.compile(optimizer=opt, loss='mse')\n",
        "  \n",
        "  xs= generate_noise(noise_dim, count=size)\n",
        "  ys= np.ones(size)\n",
        "\n",
        "  model.fit(xs, ys, epochs=epochs , batch_size=batch_size)\n"
      ],
      "execution_count": 55,
      "outputs": []
    },
    {
      "cell_type": "code",
      "metadata": {
        "id": "0QrjjGuZn7Cm"
      },
      "source": [
        "g_model= generator(noise_dim, image_dim)\n",
        "d_model= discremenetor(image_dim)\n"
      ],
      "execution_count": 52,
      "outputs": []
    },
    {
      "cell_type": "code",
      "metadata": {
        "colab": {
          "base_uri": "https://localhost:8080/"
        },
        "id": "u5tgKCdYoMSw",
        "outputId": "bca61402-8e3a-42ea-d932-3f96463a5ff2"
      },
      "source": [
        "for i in range(20):\n",
        "  print(\"\\n\\n\\tTraining for \", i, \"th time\\n\\n\")\n",
        "\n",
        "  train_discriminator(g_model, d_model)\n",
        "\n",
        "  print(\"--------------\")\n",
        "\n",
        "  train_generator(g_model, d_model)\n",
        "\n",
        "  noise= generate_noise(noise_dim)\n",
        "  image= g_model.predict(noise)\n",
        "  draw_image(image[0])"
      ],
      "execution_count": null,
      "outputs": [
        {
          "output_type": "stream",
          "text": [
            "\n",
            "\n",
            "\tTraining for  0 th time\n",
            "\n",
            "\n",
            "128/128 [==============================] - 10s 80ms/step - loss: 0.0462\n",
            "--------------\n",
            "128/128 [==============================] - 21s 159ms/step - loss: 0.5157\n",
            "\n",
            "\n",
            "\tTraining for  1 th time\n",
            "\n",
            "\n",
            "128/128 [==============================] - 10s 78ms/step - loss: 0.0497\n",
            "--------------\n",
            "106/128 [=======================>......] - ETA: 3s - loss: 0.5225"
          ],
          "name": "stdout"
        }
      ]
    },
    {
      "cell_type": "code",
      "metadata": {
        "id": "MfbYj_Xf2iDF"
      },
      "source": [
        ""
      ],
      "execution_count": null,
      "outputs": []
    }
  ]
}